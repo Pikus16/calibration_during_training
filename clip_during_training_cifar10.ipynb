{
 "cells": [
  {
   "cell_type": "code",
   "execution_count": 1,
   "metadata": {},
   "outputs": [
    {
     "name": "stderr",
     "output_type": "stream",
     "text": [
      "/home/ubuntu/anaconda3/envs/content_understanding/lib/python3.8/site-packages/tqdm/auto.py:22: TqdmWarning: IProgress not found. Please update jupyter and ipywidgets. See https://ipywidgets.readthedocs.io/en/stable/user_install.html\n",
      "  from .autonotebook import tqdm as notebook_tqdm\n"
     ]
    }
   ],
   "source": [
    "import open_clip\n",
    "import torchvision\n",
    "import torch\n",
    "from tqdm import tqdm\n",
    "import matplotlib.pyplot as plt"
   ]
  },
  {
   "cell_type": "code",
   "execution_count": 2,
   "metadata": {},
   "outputs": [],
   "source": [
    "model, _, preprocess = open_clip.create_model_and_transforms('ViT-B-32-quickgelu', pretrained='laion400m_e32')\n",
    "tokenizer = open_clip.get_tokenizer('ViT-B-32-quickgelu')"
   ]
  },
  {
   "cell_type": "code",
   "execution_count": 3,
   "metadata": {},
   "outputs": [
    {
     "name": "stdout",
     "output_type": "stream",
     "text": [
      "Files already downloaded and verified\n",
      "Files already downloaded and verified\n"
     ]
    }
   ],
   "source": [
    "cifar_train = torchvision.datasets.CIFAR10('/home/ubuntu/data/', train = True, transform = preprocess, download=True)\n",
    "cifar_test = torchvision.datasets.CIFAR10('/home/ubuntu/data/', train = False, transform = preprocess, download=True)"
   ]
  },
  {
   "cell_type": "code",
   "execution_count": 4,
   "metadata": {},
   "outputs": [],
   "source": [
    "train_loader = torch.utils.data.DataLoader(cifar_train, batch_size=128, shuffle=False, num_workers=8)\n",
    "test_loader = torch.utils.data.DataLoader(cifar_test, batch_size=128, shuffle=False, num_workers=8)"
   ]
  },
  {
   "cell_type": "code",
   "execution_count": 5,
   "metadata": {},
   "outputs": [],
   "source": [
    "device = torch.device('cuda:0' if torch.cuda.is_available() else 'cpu')"
   ]
  },
  {
   "cell_type": "code",
   "execution_count": 6,
   "metadata": {},
   "outputs": [
    {
     "name": "stderr",
     "output_type": "stream",
     "text": [
      "391it [00:34, 11.24it/s]                         \n"
     ]
    }
   ],
   "source": [
    "all_train_features = None\n",
    "model.to(device)\n",
    "all_train_labels = None\n",
    "for i, (images, labels) in tqdm(enumerate(train_loader), total=len(cifar_train) // 128):\n",
    "    images = images.to(device)\n",
    "    model.eval()\n",
    "    with torch.no_grad(), torch.cuda.amp.autocast():\n",
    "        image_features = model.encode_image(images)\n",
    "        image_features /= image_features.norm(dim=-1, keepdim=True)\n",
    "        image_features = image_features.cpu()\n",
    "        if all_train_features is None:\n",
    "            all_train_features = image_features\n",
    "            all_train_labels = labels\n",
    "        else:\n",
    "            all_train_features = torch.concat([all_train_features, image_features])\n",
    "            all_train_labels = torch.concat((all_train_labels, labels))"
   ]
  },
  {
   "cell_type": "code",
   "execution_count": 7,
   "metadata": {},
   "outputs": [
    {
     "name": "stderr",
     "output_type": "stream",
     "text": [
      "79it [00:06, 12.87it/s]                        \n"
     ]
    }
   ],
   "source": [
    "all_test_features = None\n",
    "model.to(device)\n",
    "all_test_labels = None\n",
    "for i, (images, labels) in tqdm(enumerate(test_loader), total=len(cifar_test) // 128):\n",
    "    images = images.to(device)\n",
    "    model.eval()\n",
    "    with torch.no_grad(), torch.cuda.amp.autocast():\n",
    "        image_features = model.encode_image(images)\n",
    "        image_features /= image_features.norm(dim=-1, keepdim=True)\n",
    "        if all_test_features is None:\n",
    "            all_test_features = image_features\n",
    "            all_test_labels = labels\n",
    "        else:\n",
    "            all_test_features = torch.concat([all_test_features, image_features])\n",
    "            all_test_labels = torch.concat((all_test_labels, labels))"
   ]
  },
  {
   "cell_type": "code",
   "execution_count": 8,
   "metadata": {},
   "outputs": [],
   "source": [
    "train_vec_dset = torch.utils.data.TensorDataset(all_train_features.cpu(), all_train_labels.cpu())\n",
    "test_vec_dset = torch.utils.data.TensorDataset(all_test_features.cpu(), all_test_labels.cpu())\n",
    "train_vec_loader = torch.utils.data.DataLoader(train_vec_dset, batch_size=128, shuffle=True, num_workers=8)\n",
    "test_vec_loader = torch.utils.data.DataLoader(test_vec_dset, batch_size=128, shuffle=False, num_workers=8)"
   ]
  },
  {
   "cell_type": "code",
   "execution_count": 9,
   "metadata": {},
   "outputs": [],
   "source": [
    "def eval(model_):\n",
    "    model_.eval()\n",
    "    running_corrects = 0\n",
    "    total_num = 0\n",
    "    with torch.no_grad(), torch.cuda.amp.autocast():\n",
    "        for inputs, labels in test_vec_loader:\n",
    "            inputs = inputs.to(device)\n",
    "            labels = labels.to(device)\n",
    "            outputs = model_(inputs)\n",
    "            _, preds = torch.max(outputs, 1)\n",
    "            running_corrects += torch.sum(preds == labels.data).item()\n",
    "            total_num += len(labels)\n",
    "    return running_corrects / total_num"
   ]
  },
  {
   "cell_type": "code",
   "execution_count": 10,
   "metadata": {},
   "outputs": [],
   "source": [
    "class LinearHead(torch.nn.Module):\n",
    "    def __init__(self, feature_dim=512, num_classes=10):#, temp_scale=False):\n",
    "        super().__init__()\n",
    "        self.fc = torch.nn.Linear(feature_dim, num_classes)\n",
    "        #self.temp_scale = temp_scale\n",
    "\n",
    "    def forward(self, x):\n",
    "        x = self.fc(x)\n",
    "        return x\n",
    "        if self.temp_scale:\n",
    "            temp = run_supervised_tempscaling(x.detach().clone(), labels)\n",
    "            x = torch.div(x,temp)\n",
    "            return x, temp\n",
    "        else:\n",
    "            return x"
   ]
  },
  {
   "cell_type": "code",
   "execution_count": 11,
   "metadata": {},
   "outputs": [
    {
     "name": "stderr",
     "output_type": "stream",
     "text": [
      "100%|██████████| 10/10 [00:17<00:00,  1.78s/it]\n"
     ]
    }
   ],
   "source": [
    "criterion = torch.nn.CrossEntropyLoss()\n",
    "model = LinearHead().train().to(device)\n",
    "optimizer = torch.optim.SGD(model.parameters(), lr=0.001, momentum=0.9)\n",
    "accs = []\n",
    "for epoch in tqdm(range(10)):\n",
    "    # Iterate over data.\n",
    "    with torch.cuda.amp.autocast():\n",
    "        for inputs, labels in train_vec_loader:\n",
    "            inputs = inputs.to(device)\n",
    "            labels = labels.to(device)\n",
    "\n",
    "            # zero the parameter gradients\n",
    "            optimizer.zero_grad()\n",
    "            outputs = model(inputs)\n",
    "            loss = criterion(outputs, labels)\n",
    "            loss.backward()\n",
    "            optimizer.step()\n",
    "    accs.append(eval(model))"
   ]
  },
  {
   "attachments": {},
   "cell_type": "markdown",
   "metadata": {},
   "source": [
    "from https://github.com/gpleiss/temperature_scaling"
   ]
  },
  {
   "cell_type": "code",
   "execution_count": 12,
   "metadata": {},
   "outputs": [
    {
     "name": "stderr",
     "output_type": "stream",
     "text": [
      "  0%|          | 0/10 [00:00<?, ?it/s]"
     ]
    },
    {
     "name": "stdout",
     "output_type": "stream",
     "text": [
      "Before temperature - NLL: 2.307, ECE: 0.065\n",
      "Optimal temperature: 1.507\n",
      "After temperature - NLL: 2.305, ECE: 0.063\n"
     ]
    },
    {
     "name": "stderr",
     "output_type": "stream",
     "text": [
      " 10%|█         | 1/10 [00:02<00:26,  2.89s/it]"
     ]
    },
    {
     "name": "stdout",
     "output_type": "stream",
     "text": [
      "Before temperature - NLL: 2.269, ECE: 0.327\n",
      "Optimal temperature: 1.442\n",
      "After temperature - NLL: 2.280, ECE: 0.329\n"
     ]
    },
    {
     "name": "stderr",
     "output_type": "stream",
     "text": [
      " 20%|██        | 2/10 [00:05<00:23,  2.93s/it]"
     ]
    },
    {
     "name": "stdout",
     "output_type": "stream",
     "text": [
      "Before temperature - NLL: 2.232, ECE: 0.631\n",
      "Optimal temperature: 1.276\n",
      "After temperature - NLL: 2.247, ECE: 0.633\n"
     ]
    },
    {
     "name": "stderr",
     "output_type": "stream",
     "text": [
      " 30%|███       | 3/10 [00:08<00:20,  2.91s/it]"
     ]
    },
    {
     "name": "stdout",
     "output_type": "stream",
     "text": [
      "Before temperature - NLL: 2.191, ECE: 0.727\n",
      "Optimal temperature: 0.868\n",
      "After temperature - NLL: 2.175, ECE: 0.725\n"
     ]
    },
    {
     "name": "stderr",
     "output_type": "stream",
     "text": [
      " 40%|████      | 4/10 [00:11<00:17,  2.91s/it]"
     ]
    },
    {
     "name": "stdout",
     "output_type": "stream",
     "text": [
      "Before temperature - NLL: 2.143, ECE: 0.765\n",
      "Optimal temperature: -14.806\n",
      "After temperature - NLL: 2.314, ECE: 0.101\n"
     ]
    },
    {
     "name": "stderr",
     "output_type": "stream",
     "text": [
      " 50%|█████     | 5/10 [00:14<00:14,  2.90s/it]"
     ]
    },
    {
     "name": "stdout",
     "output_type": "stream",
     "text": [
      "Before temperature - NLL: 2.124, ECE: 0.548\n",
      "Optimal temperature: -14.810\n",
      "After temperature - NLL: 2.315, ECE: 0.099\n"
     ]
    },
    {
     "name": "stderr",
     "output_type": "stream",
     "text": [
      " 60%|██████    | 6/10 [00:17<00:11,  2.87s/it]"
     ]
    },
    {
     "name": "stdout",
     "output_type": "stream",
     "text": [
      "Before temperature - NLL: 2.127, ECE: 0.539\n",
      "Optimal temperature: -14.813\n",
      "After temperature - NLL: 2.315, ECE: 0.099\n"
     ]
    },
    {
     "name": "stderr",
     "output_type": "stream",
     "text": [
      " 70%|███████   | 7/10 [00:20<00:08,  2.88s/it]"
     ]
    },
    {
     "name": "stdout",
     "output_type": "stream",
     "text": [
      "Before temperature - NLL: 2.131, ECE: 0.531\n",
      "Optimal temperature: -14.816\n",
      "After temperature - NLL: 2.315, ECE: 0.099\n"
     ]
    },
    {
     "name": "stderr",
     "output_type": "stream",
     "text": [
      " 80%|████████  | 8/10 [00:23<00:05,  2.87s/it]"
     ]
    },
    {
     "name": "stdout",
     "output_type": "stream",
     "text": [
      "Before temperature - NLL: 2.135, ECE: 0.521\n",
      "Optimal temperature: -14.820\n",
      "After temperature - NLL: 2.314, ECE: 0.099\n"
     ]
    },
    {
     "name": "stderr",
     "output_type": "stream",
     "text": [
      " 90%|█████████ | 9/10 [00:25<00:02,  2.86s/it]"
     ]
    },
    {
     "name": "stdout",
     "output_type": "stream",
     "text": [
      "Before temperature - NLL: 2.139, ECE: 0.512\n",
      "Optimal temperature: -14.823\n",
      "After temperature - NLL: 2.314, ECE: 0.099\n"
     ]
    },
    {
     "name": "stderr",
     "output_type": "stream",
     "text": [
      "100%|██████████| 10/10 [00:28<00:00,  2.88s/it]\n"
     ]
    }
   ],
   "source": [
    "from temperature_scaling import ModelWithTemperature\n",
    "model_scaled = ModelWithTemperature(LinearHead().train()).to(device)\n",
    "optimizer = torch.optim.SGD(model_scaled.parameters(), lr=0.001, momentum=0.9)\n",
    "accs_scaled = []\n",
    "all_temps = []\n",
    "for epoch in tqdm(range(10)):\n",
    "    # Iterate over data.\n",
    "    with torch.cuda.amp.autocast():\n",
    "        for inputs, labels in train_vec_loader:\n",
    "            inputs = inputs.to(device)\n",
    "            labels = labels.to(device)\n",
    "\n",
    "            # zero the parameter gradients\n",
    "            optimizer.zero_grad()\n",
    "            outputs = model_scaled(inputs)\n",
    "            loss = criterion(outputs, labels)\n",
    "            loss.backward()\n",
    "            optimizer.step()\n",
    "\n",
    "        _, temp, _, _ = model_scaled.set_temperature(train_vec_loader)\n",
    "        all_temps.append(temp)\n",
    "    accs_scaled.append(eval(model_scaled))"
   ]
  },
  {
   "attachments": {},
   "cell_type": "markdown",
   "metadata": {},
   "source": [
    "custom temp scaling"
   ]
  },
  {
   "cell_type": "code",
   "execution_count": 71,
   "metadata": {},
   "outputs": [],
   "source": [
    "def T_scaling(logits, args):\n",
    "  temperature = args.get('temperature', None)\n",
    "  return torch.div(logits, temperature)\n",
    "  \n",
    "def run_supervised_tempscaling(logits, actuals):\n",
    "    ## Setup LBGFS\n",
    "    temperature = torch.nn.Parameter((torch.ones(1)).to(device))\n",
    "    args = {'temperature': temperature}\n",
    "    criterion = torch.nn.CrossEntropyLoss()\n",
    "\n",
    "    # Removing strong_wolfe line search results in jump after 50 epochs\n",
    "    optimizer = torch.optim.LBFGS([temperature], lr=0.001, max_iter=1000, line_search_fn='strong_wolfe')\n",
    "\n",
    "    temps = []\n",
    "    losses = []\n",
    "    def _eval():\n",
    "        loss = criterion(T_scaling(logits, args), actuals)\n",
    "        loss.backward()\n",
    "        temps.append(temperature.item())\n",
    "        losses.append(loss)\n",
    "        return loss\n",
    "    optimizer.step(_eval)\n",
    "    return temperature.item()"
   ]
  },
  {
   "cell_type": "code",
   "execution_count": 98,
   "metadata": {},
   "outputs": [
    {
     "name": "stderr",
     "output_type": "stream",
     "text": [
      "391it [00:12, 32.55it/s]                         \n",
      "391it [03:44,  1.74it/s]0:12<01:53, 12.58s/it]\n",
      "391it [12:12,  1.87s/it]3:57<18:21, 137.70s/it]\n",
      "391it [12:13,  1.88s/it]6:11<47:47, 409.66s/it]\n",
      "391it [12:16,  1.88s/it]8:25<53:46, 537.82s/it]\n",
      "391it [12:16,  1.88s/it]0:42<50:47, 609.54s/it]\n",
      "391it [12:13,  1.88s/it]2:59<43:31, 652.86s/it]\n",
      "391it [12:11,  1.87s/it]:05:13<33:58, 679.38s/it]\n",
      "391it [12:10,  1.87s/it]:17:25<23:12, 696.20s/it]\n",
      "391it [12:13,  1.88s/it]:29:36<11:47, 707.09s/it]\n",
      "100%|██████████| 10/10 [1:41:50<00:00, 611.04s/it]\n"
     ]
    }
   ],
   "source": [
    "criterion = torch.nn.CrossEntropyLoss()\n",
    "model_scaled = LinearHead().train().to(device)\n",
    "optimizer = torch.optim.SGD(model_scaled.parameters(), lr=0.001, momentum=0.9)\n",
    "all_temps = []\n",
    "accs_scaled = []\n",
    "for epoch in tqdm(range(10)):\n",
    "    # Iterate over data.\n",
    "    with torch.cuda.amp.autocast():\n",
    "        for inputs, labels in tqdm(train_vec_loader, total=len(cifar_train) // 128):\n",
    "            inputs = inputs.to(device)\n",
    "            labels = labels.to(device)\n",
    "\n",
    "            # zero the parameter gradients\n",
    "            optimizer.zero_grad()\n",
    "            outputs = model_scaled(inputs)\n",
    "            # Scale\n",
    "            #with torch.no_grad():\n",
    "            temp = run_supervised_tempscaling(outputs.detach().clone(), labels)\n",
    "            outputs = torch.div(outputs, temp)\n",
    "            loss = criterion(outputs, labels)\n",
    "            loss.backward()\n",
    "            optimizer.step()\n",
    "            all_temps.append(temp)\n",
    "    accs_scaled.append(eval(model_scaled))"
   ]
  },
  {
   "cell_type": "code",
   "execution_count": 13,
   "metadata": {},
   "outputs": [
    {
     "data": {
      "text/plain": [
       "0.9184"
      ]
     },
     "execution_count": 13,
     "metadata": {},
     "output_type": "execute_result"
    }
   ],
   "source": [
    "eval(model)"
   ]
  },
  {
   "cell_type": "code",
   "execution_count": 14,
   "metadata": {},
   "outputs": [
    {
     "data": {
      "text/plain": [
       "0.0029"
      ]
     },
     "execution_count": 14,
     "metadata": {},
     "output_type": "execute_result"
    }
   ],
   "source": [
    "eval(model_scaled)"
   ]
  },
  {
   "cell_type": "code",
   "execution_count": 15,
   "metadata": {},
   "outputs": [
    {
     "data": {
      "text/plain": [
       "<matplotlib.legend.Legend at 0x7ff6cd1d8ee0>"
      ]
     },
     "execution_count": 15,
     "metadata": {},
     "output_type": "execute_result"
    },
    {
     "data": {
      "image/png": "[encoded data removed]",
      "text/plain": [
       "<Figure size 640x480 with 1 Axes>"
      ]
     },
     "metadata": {},
     "output_type": "display_data"
    }
   ],
   "source": [
    "plt.plot(range(len(accs)), accs, label='Normal Training')\n",
    "plt.plot(range(len(accs_scaled)), accs_scaled, label='Scaled During Training')\n",
    "plt.xlabel('Epochs')\n",
    "plt.ylabel('Accuracy')\n",
    "plt.title('Accuracy on CIFAR10 on frozen CLIP Embeddings - Temperature Scaled')\n",
    "plt.legend()"
   ]
  },
  {
   "cell_type": "code",
   "execution_count": 17,
   "metadata": {},
   "outputs": [
    {
     "data": {
      "text/plain": [
       "Text(0.5, 1.0, 'Supervised Temperature During Training')"
      ]
     },
     "execution_count": 17,
     "metadata": {},
     "output_type": "execute_result"
    },
    {
     "data": {
      "image/png": "[encoded data removed]",
      "text/plain": [
       "<Figure size 640x480 with 1 Axes>"
      ]
     },
     "metadata": {},
     "output_type": "display_data"
    }
   ],
   "source": [
    "plt.plot(range(len(all_temps)), all_temps)\n",
    "plt.xlabel('Epoch')\n",
    "plt.ylabel('Temperature')\n",
    "plt.title('Supervised Temperature During Training')"
   ]
  },
  {
   "cell_type": "code",
   "execution_count": null,
   "metadata": {},
   "outputs": [],
   "source": []
  }
 ],
 "metadata": {
  "kernelspec": {
   "display_name": "content_understanding",
   "language": "python",
   "name": "python3"
  },
  "language_info": {
   "codemirror_mode": {
    "name": "ipython",
    "version": 3
   },
   "file_extension": ".py",
   "mimetype": "text/x-python",
   "name": "python",
   "nbconvert_exporter": "python",
   "pygments_lexer": "ipython3",
   "version": "3.8.15"
  },
  "orig_nbformat": 4,
  "vscode": {
   "interpreter": {
    "hash": "6d36b139402f0f8909133622e5e80cdd43397350f551386f6df555aa508ab69d"
   }
  }
 },
 "nbformat": 4,
 "nbformat_minor": 2
}
